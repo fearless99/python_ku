{
  "nbformat": 4,
  "nbformat_minor": 0,
  "metadata": {
    "colab": {
      "provenance": [],
      "authorship_tag": "ABX9TyM90QRZvcAkEKO97m7ji3XT",
      "include_colab_link": true
    },
    "kernelspec": {
      "name": "python3",
      "display_name": "Python 3"
    },
    "language_info": {
      "name": "python"
    }
  },
  "cells": [
    {
      "cell_type": "markdown",
      "metadata": {
        "id": "view-in-github",
        "colab_type": "text"
      },
      "source": [
        "<a href=\"https://colab.research.google.com/github/fearless99/python_ku/blob/main/Verry_Riyanto_Bagging.ipynb\" target=\"_parent\"><img src=\"https://colab.research.google.com/assets/colab-badge.svg\" alt=\"Open In Colab\"/></a>"
      ]
    },
    {
      "cell_type": "code",
      "execution_count": 1,
      "metadata": {
        "colab": {
          "base_uri": "https://localhost:8080/"
        },
        "id": "0WyOrHfgFIh3",
        "outputId": "73a9455b-5aab-401c-d83a-dfb6d21c9211"
      },
      "outputs": [
        {
          "output_type": "stream",
          "name": "stdout",
          "text": [
            "Model test Score: 0.958,  Model training Score: 0.960\n"
          ]
        }
      ],
      "source": [
        "#Impor Library \n",
        "import numpy as np\n",
        "from sklearn import datasets\n",
        "from sklearn.model_selection import train_test_split\n",
        "from sklearn.preprocessing import StandardScaler\n",
        "from sklearn.linear_model import LogisticRegression\n",
        "from sklearn.pipeline import make_pipeline\n",
        "from sklearn.ensemble import BaggingClassifier\n",
        "from sklearn.model_selection import GridSearchCV\n",
        "\n",
        "#Load cancer dataset\n",
        "bc = datasets.load_breast_cancer()\n",
        "X = bc.data\n",
        "y = bc.target\n",
        "#membagi dataset \n",
        "X_train, X_test, y_train, y_test = train_test_split(X, y, test_size=0.25, random_state=1, stratify=y)\n",
        "#Melakukan pipelining \n",
        "pipeline = make_pipeline(StandardScaler(),LogisticRegression(random_state=1))\n",
        "#Skema bagging\n",
        "bgclassifier = BaggingClassifier(base_estimator=pipeline, n_estimators=100,\n",
        "                                 max_features=8,\n",
        "                                 max_samples=80,\n",
        "                                 random_state=1, n_jobs=5)\n",
        "bgclassifier.fit(X_train, y_train)\n",
        "print('Model test Score: %.3f, ' %bgclassifier.score(X_test, y_test),\n",
        "      'Model training Score: %.3f' %bgclassifier.score(X_train, y_train))"
      ]
    }
  ]
}